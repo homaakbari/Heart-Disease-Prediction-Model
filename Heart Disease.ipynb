{
 "cells": [
  {
   "cell_type": "markdown",
   "id": "8d6ef344",
   "metadata": {},
   "source": [
    "# Risk Prediction Model for Heart Disease Using Random Forest Classifier"
   ]
  },
  {
   "cell_type": "code",
   "execution_count": 1,
   "id": "3450a3f2",
   "metadata": {},
   "outputs": [],
   "source": [
    "import pandas as pd\n",
    "import numpy as np\n",
    "import matplotlib.pyplot as plt\n",
    "import seaborn as sns\n",
    "from sklearn.experimental import enable_iterative_imputer\n",
    "from sklearn.impute import IterativeImputer\n",
    "from sklearn.neighbors import LocalOutlierFactor\n",
    "from sklearn.model_selection import train_test_split\n",
    "from imblearn.over_sampling import SMOTE\n",
    "from sklearn.ensemble import RandomForestClassifier\n",
    "import itertools\n",
    "from sklearn import metrics\n",
    "from sklearn.metrics import roc_auc_score\n",
    "from sklearn.metrics import (roc_curve, precision_recall_curve, average_precision_score, auc)\n",
    "from sklearn.metrics import classification_report\n",
    "import shap"
   ]
  },
  {
   "cell_type": "code",
   "execution_count": 2,
   "id": "90b79183",
   "metadata": {},
   "outputs": [],
   "source": [
    "df = pd.read_csv(\"Data/heart.csv\")"
   ]
  },
  {
   "cell_type": "markdown",
   "id": "d441f057",
   "metadata": {},
   "source": [
    "Dataset Reference: https://www.kaggle.com/datasets/fedesoriano/heart-failure-prediction"
   ]
  },
  {
   "cell_type": "code",
   "execution_count": 3,
   "id": "a9a3778c",
   "metadata": {},
   "outputs": [
    {
     "name": "stdout",
     "output_type": "stream",
     "text": [
      "df shape: (918, 12)\n"
     ]
    },
    {
     "data": {
      "text/html": [
       "<div>\n",
       "<style scoped>\n",
       "    .dataframe tbody tr th:only-of-type {\n",
       "        vertical-align: middle;\n",
       "    }\n",
       "\n",
       "    .dataframe tbody tr th {\n",
       "        vertical-align: top;\n",
       "    }\n",
       "\n",
       "    .dataframe thead th {\n",
       "        text-align: right;\n",
       "    }\n",
       "</style>\n",
       "<table border=\"1\" class=\"dataframe\">\n",
       "  <thead>\n",
       "    <tr style=\"text-align: right;\">\n",
       "      <th></th>\n",
       "      <th>Age</th>\n",
       "      <th>Sex</th>\n",
       "      <th>ChestPainType</th>\n",
       "      <th>RestingBP</th>\n",
       "      <th>Cholesterol</th>\n",
       "      <th>FastingBS</th>\n",
       "      <th>RestingECG</th>\n",
       "      <th>MaxHR</th>\n",
       "      <th>ExerciseAngina</th>\n",
       "      <th>Oldpeak</th>\n",
       "      <th>ST_Slope</th>\n",
       "      <th>HeartDisease</th>\n",
       "    </tr>\n",
       "  </thead>\n",
       "  <tbody>\n",
       "    <tr>\n",
       "      <th>0</th>\n",
       "      <td>40</td>\n",
       "      <td>M</td>\n",
       "      <td>ATA</td>\n",
       "      <td>140</td>\n",
       "      <td>289</td>\n",
       "      <td>0</td>\n",
       "      <td>Normal</td>\n",
       "      <td>172</td>\n",
       "      <td>N</td>\n",
       "      <td>0.0</td>\n",
       "      <td>Up</td>\n",
       "      <td>0</td>\n",
       "    </tr>\n",
       "    <tr>\n",
       "      <th>1</th>\n",
       "      <td>49</td>\n",
       "      <td>F</td>\n",
       "      <td>NAP</td>\n",
       "      <td>160</td>\n",
       "      <td>180</td>\n",
       "      <td>0</td>\n",
       "      <td>Normal</td>\n",
       "      <td>156</td>\n",
       "      <td>N</td>\n",
       "      <td>1.0</td>\n",
       "      <td>Flat</td>\n",
       "      <td>1</td>\n",
       "    </tr>\n",
       "    <tr>\n",
       "      <th>2</th>\n",
       "      <td>37</td>\n",
       "      <td>M</td>\n",
       "      <td>ATA</td>\n",
       "      <td>130</td>\n",
       "      <td>283</td>\n",
       "      <td>0</td>\n",
       "      <td>ST</td>\n",
       "      <td>98</td>\n",
       "      <td>N</td>\n",
       "      <td>0.0</td>\n",
       "      <td>Up</td>\n",
       "      <td>0</td>\n",
       "    </tr>\n",
       "    <tr>\n",
       "      <th>3</th>\n",
       "      <td>48</td>\n",
       "      <td>F</td>\n",
       "      <td>ASY</td>\n",
       "      <td>138</td>\n",
       "      <td>214</td>\n",
       "      <td>0</td>\n",
       "      <td>Normal</td>\n",
       "      <td>108</td>\n",
       "      <td>Y</td>\n",
       "      <td>1.5</td>\n",
       "      <td>Flat</td>\n",
       "      <td>1</td>\n",
       "    </tr>\n",
       "    <tr>\n",
       "      <th>4</th>\n",
       "      <td>54</td>\n",
       "      <td>M</td>\n",
       "      <td>NAP</td>\n",
       "      <td>150</td>\n",
       "      <td>195</td>\n",
       "      <td>0</td>\n",
       "      <td>Normal</td>\n",
       "      <td>122</td>\n",
       "      <td>N</td>\n",
       "      <td>0.0</td>\n",
       "      <td>Up</td>\n",
       "      <td>0</td>\n",
       "    </tr>\n",
       "  </tbody>\n",
       "</table>\n",
       "</div>"
      ],
      "text/plain": [
       "   Age Sex ChestPainType  RestingBP  Cholesterol  FastingBS RestingECG  MaxHR  \\\n",
       "0   40   M           ATA        140          289          0     Normal    172   \n",
       "1   49   F           NAP        160          180          0     Normal    156   \n",
       "2   37   M           ATA        130          283          0         ST     98   \n",
       "3   48   F           ASY        138          214          0     Normal    108   \n",
       "4   54   M           NAP        150          195          0     Normal    122   \n",
       "\n",
       "  ExerciseAngina  Oldpeak ST_Slope  HeartDisease  \n",
       "0              N      0.0       Up             0  \n",
       "1              N      1.0     Flat             1  \n",
       "2              N      0.0       Up             0  \n",
       "3              Y      1.5     Flat             1  \n",
       "4              N      0.0       Up             0  "
      ]
     },
     "execution_count": 3,
     "metadata": {},
     "output_type": "execute_result"
    }
   ],
   "source": [
    "print(\"df shape: {}\".format(df.shape))\n",
    "df.head()"
   ]
  },
  {
   "cell_type": "code",
   "execution_count": 4,
   "id": "a3233a1b",
   "metadata": {},
   "outputs": [
    {
     "name": "stdout",
     "output_type": "stream",
     "text": [
      "<class 'pandas.core.frame.DataFrame'>\n",
      "RangeIndex: 918 entries, 0 to 917\n",
      "Data columns (total 12 columns):\n",
      " #   Column          Non-Null Count  Dtype  \n",
      "---  ------          --------------  -----  \n",
      " 0   Age             918 non-null    int64  \n",
      " 1   Sex             918 non-null    object \n",
      " 2   ChestPainType   918 non-null    object \n",
      " 3   RestingBP       918 non-null    int64  \n",
      " 4   Cholesterol     918 non-null    int64  \n",
      " 5   FastingBS       918 non-null    int64  \n",
      " 6   RestingECG      918 non-null    object \n",
      " 7   MaxHR           918 non-null    int64  \n",
      " 8   ExerciseAngina  918 non-null    object \n",
      " 9   Oldpeak         918 non-null    float64\n",
      " 10  ST_Slope        918 non-null    object \n",
      " 11  HeartDisease    918 non-null    int64  \n",
      "dtypes: float64(1), int64(6), object(5)\n",
      "memory usage: 86.2+ KB\n"
     ]
    }
   ],
   "source": [
    "df.info()"
   ]
  },
  {
   "cell_type": "code",
   "execution_count": 5,
   "id": "947fe88d",
   "metadata": {},
   "outputs": [
    {
     "data": {
      "image/png": "[encoded data removed]",
      "text/plain": [
       "<Figure size 1008x720 with 2 Axes>"
      ]
     },
     "metadata": {
      "needs_background": "light"
     },
     "output_type": "display_data"
    }
   ],
   "source": [
    "plt.figure(figsize=(14,10))\n",
    "sns.heatmap(df.corr(),annot=True,cmap='hsv',fmt='.3f',linewidths=2)\n",
    "plt.show()"
   ]
  },
  {
   "cell_type": "code",
   "execution_count": 6,
   "id": "829c4a29",
   "metadata": {},
   "outputs": [
    {
     "data": {
      "text/html": [
       "<div>\n",
       "<style scoped>\n",
       "    .dataframe tbody tr th:only-of-type {\n",
       "        vertical-align: middle;\n",
       "    }\n",
       "\n",
       "    .dataframe tbody tr th {\n",
       "        vertical-align: top;\n",
       "    }\n",
       "\n",
       "    .dataframe thead th {\n",
       "        text-align: right;\n",
       "    }\n",
       "</style>\n",
       "<table border=\"1\" class=\"dataframe\">\n",
       "  <thead>\n",
       "    <tr style=\"text-align: right;\">\n",
       "      <th></th>\n",
       "      <th>Age</th>\n",
       "      <th>RestingBP</th>\n",
       "      <th>Cholesterol</th>\n",
       "      <th>FastingBS</th>\n",
       "      <th>MaxHR</th>\n",
       "      <th>Oldpeak</th>\n",
       "      <th>HeartDisease</th>\n",
       "    </tr>\n",
       "  </thead>\n",
       "  <tbody>\n",
       "    <tr>\n",
       "      <th>count</th>\n",
       "      <td>918.000000</td>\n",
       "      <td>918.000000</td>\n",
       "      <td>918.000000</td>\n",
       "      <td>918.000000</td>\n",
       "      <td>918.000000</td>\n",
       "      <td>918.000000</td>\n",
       "      <td>918.000000</td>\n",
       "    </tr>\n",
       "    <tr>\n",
       "      <th>mean</th>\n",
       "      <td>53.510893</td>\n",
       "      <td>132.396514</td>\n",
       "      <td>198.799564</td>\n",
       "      <td>0.233115</td>\n",
       "      <td>136.809368</td>\n",
       "      <td>0.887364</td>\n",
       "      <td>0.553377</td>\n",
       "    </tr>\n",
       "    <tr>\n",
       "      <th>std</th>\n",
       "      <td>9.432617</td>\n",
       "      <td>18.514154</td>\n",
       "      <td>109.384145</td>\n",
       "      <td>0.423046</td>\n",
       "      <td>25.460334</td>\n",
       "      <td>1.066570</td>\n",
       "      <td>0.497414</td>\n",
       "    </tr>\n",
       "    <tr>\n",
       "      <th>min</th>\n",
       "      <td>28.000000</td>\n",
       "      <td>0.000000</td>\n",
       "      <td>0.000000</td>\n",
       "      <td>0.000000</td>\n",
       "      <td>60.000000</td>\n",
       "      <td>-2.600000</td>\n",
       "      <td>0.000000</td>\n",
       "    </tr>\n",
       "    <tr>\n",
       "      <th>25%</th>\n",
       "      <td>47.000000</td>\n",
       "      <td>120.000000</td>\n",
       "      <td>173.250000</td>\n",
       "      <td>0.000000</td>\n",
       "      <td>120.000000</td>\n",
       "      <td>0.000000</td>\n",
       "      <td>0.000000</td>\n",
       "    </tr>\n",
       "    <tr>\n",
       "      <th>50%</th>\n",
       "      <td>54.000000</td>\n",
       "      <td>130.000000</td>\n",
       "      <td>223.000000</td>\n",
       "      <td>0.000000</td>\n",
       "      <td>138.000000</td>\n",
       "      <td>0.600000</td>\n",
       "      <td>1.000000</td>\n",
       "    </tr>\n",
       "    <tr>\n",
       "      <th>75%</th>\n",
       "      <td>60.000000</td>\n",
       "      <td>140.000000</td>\n",
       "      <td>267.000000</td>\n",
       "      <td>0.000000</td>\n",
       "      <td>156.000000</td>\n",
       "      <td>1.500000</td>\n",
       "      <td>1.000000</td>\n",
       "    </tr>\n",
       "    <tr>\n",
       "      <th>max</th>\n",
       "      <td>77.000000</td>\n",
       "      <td>200.000000</td>\n",
       "      <td>603.000000</td>\n",
       "      <td>1.000000</td>\n",
       "      <td>202.000000</td>\n",
       "      <td>6.200000</td>\n",
       "      <td>1.000000</td>\n",
       "    </tr>\n",
       "  </tbody>\n",
       "</table>\n",
       "</div>"
      ],
      "text/plain": [
       "              Age   RestingBP  Cholesterol   FastingBS       MaxHR  \\\n",
       "count  918.000000  918.000000   918.000000  918.000000  918.000000   \n",
       "mean    53.510893  132.396514   198.799564    0.233115  136.809368   \n",
       "std      9.432617   18.514154   109.384145    0.423046   25.460334   \n",
       "min     28.000000    0.000000     0.000000    0.000000   60.000000   \n",
       "25%     47.000000  120.000000   173.250000    0.000000  120.000000   \n",
       "50%     54.000000  130.000000   223.000000    0.000000  138.000000   \n",
       "75%     60.000000  140.000000   267.000000    0.000000  156.000000   \n",
       "max     77.000000  200.000000   603.000000    1.000000  202.000000   \n",
       "\n",
       "          Oldpeak  HeartDisease  \n",
       "count  918.000000    918.000000  \n",
       "mean     0.887364      0.553377  \n",
       "std      1.066570      0.497414  \n",
       "min     -2.600000      0.000000  \n",
       "25%      0.000000      0.000000  \n",
       "50%      0.600000      1.000000  \n",
       "75%      1.500000      1.000000  \n",
       "max      6.200000      1.000000  "
      ]
     },
     "execution_count": 6,
     "metadata": {},
     "output_type": "execute_result"
    }
   ],
   "source": [
    "df.describe()"
   ]
  },
  {
   "cell_type": "code",
   "execution_count": 7,
   "id": "af6221ba",
   "metadata": {},
   "outputs": [
    {
     "name": "stdout",
     "output_type": "stream",
     "text": [
      "(918, 12) (918, 12)\n"
     ]
    }
   ],
   "source": [
    "df_dup=df.drop_duplicates()\n",
    "print(df.shape,df_dup.shape)"
   ]
  },
  {
   "cell_type": "code",
   "execution_count": 8,
   "id": "2ce1ab60",
   "metadata": {},
   "outputs": [],
   "source": [
    "continuous_columns = ['Age', 'RestingBP', 'Cholesterol', 'FastingBS', 'MaxHR','Oldpeak']"
   ]
  },
  {
   "cell_type": "code",
   "execution_count": 9,
   "id": "9ce5d62c",
   "metadata": {},
   "outputs": [],
   "source": [
    "df['Sex'].replace({'F':0,'M':1},inplace=True)"
   ]
  },
  {
   "cell_type": "code",
   "execution_count": 10,
   "id": "2f2761ec",
   "metadata": {},
   "outputs": [
    {
     "data": {
      "text/plain": [
       "ASY    496\n",
       "NAP    203\n",
       "ATA    173\n",
       "TA      46\n",
       "Name: ChestPainType, dtype: int64"
      ]
     },
     "execution_count": 10,
     "metadata": {},
     "output_type": "execute_result"
    }
   ],
   "source": [
    "df['ChestPainType'].value_counts()"
   ]
  },
  {
   "cell_type": "code",
   "execution_count": 11,
   "id": "eb5d6d11",
   "metadata": {},
   "outputs": [],
   "source": [
    "df['ChestPainType'].replace({'ASY':0, 'NAP':1, 'ATA':2, 'TA':3}, inplace=True)"
   ]
  },
  {
   "cell_type": "code",
   "execution_count": 12,
   "id": "6db38b0b",
   "metadata": {},
   "outputs": [
    {
     "data": {
      "text/plain": [
       "Normal    552\n",
       "LVH       188\n",
       "ST        178\n",
       "Name: RestingECG, dtype: int64"
      ]
     },
     "execution_count": 12,
     "metadata": {},
     "output_type": "execute_result"
    }
   ],
   "source": [
    "df['RestingECG'].value_counts()"
   ]
  },
  {
   "cell_type": "code",
   "execution_count": 13,
   "id": "bfbc37b3",
   "metadata": {},
   "outputs": [],
   "source": [
    "df['RestingECG'].replace({'LVH':0, 'Normal':1, 'ST':2}, inplace=True)"
   ]
  },
  {
   "cell_type": "code",
   "execution_count": 14,
   "id": "5d11a964",
   "metadata": {},
   "outputs": [
    {
     "data": {
      "text/plain": [
       "N    547\n",
       "Y    371\n",
       "Name: ExerciseAngina, dtype: int64"
      ]
     },
     "execution_count": 14,
     "metadata": {},
     "output_type": "execute_result"
    }
   ],
   "source": [
    "df['ExerciseAngina'].value_counts()"
   ]
  },
  {
   "cell_type": "code",
   "execution_count": 15,
   "id": "60512a0b",
   "metadata": {},
   "outputs": [],
   "source": [
    "df['ExerciseAngina'].replace({'Y':1, 'N':0}, inplace=True)"
   ]
  },
  {
   "cell_type": "code",
   "execution_count": 16,
   "id": "f82d56d4",
   "metadata": {},
   "outputs": [
    {
     "data": {
      "text/plain": [
       "Flat    460\n",
       "Up      395\n",
       "Down     63\n",
       "Name: ST_Slope, dtype: int64"
      ]
     },
     "execution_count": 16,
     "metadata": {},
     "output_type": "execute_result"
    }
   ],
   "source": [
    "df['ST_Slope'].value_counts()"
   ]
  },
  {
   "cell_type": "code",
   "execution_count": 17,
   "id": "da92cb67",
   "metadata": {},
   "outputs": [],
   "source": [
    "df['ST_Slope'].replace({'Down':0, 'Flat':1, 'Up':2}, inplace=True)"
   ]
  },
  {
   "cell_type": "code",
   "execution_count": 18,
   "id": "5635fb76",
   "metadata": {},
   "outputs": [
    {
     "data": {
      "text/html": [
       "<div>\n",
       "<style scoped>\n",
       "    .dataframe tbody tr th:only-of-type {\n",
       "        vertical-align: middle;\n",
       "    }\n",
       "\n",
       "    .dataframe tbody tr th {\n",
       "        vertical-align: top;\n",
       "    }\n",
       "\n",
       "    .dataframe thead th {\n",
       "        text-align: right;\n",
       "    }\n",
       "</style>\n",
       "<table border=\"1\" class=\"dataframe\">\n",
       "  <thead>\n",
       "    <tr style=\"text-align: right;\">\n",
       "      <th></th>\n",
       "      <th>Age</th>\n",
       "      <th>Sex</th>\n",
       "      <th>ChestPainType</th>\n",
       "      <th>RestingBP</th>\n",
       "      <th>Cholesterol</th>\n",
       "      <th>FastingBS</th>\n",
       "      <th>RestingECG</th>\n",
       "      <th>MaxHR</th>\n",
       "      <th>ExerciseAngina</th>\n",
       "      <th>Oldpeak</th>\n",
       "      <th>ST_Slope</th>\n",
       "      <th>HeartDisease</th>\n",
       "    </tr>\n",
       "  </thead>\n",
       "  <tbody>\n",
       "    <tr>\n",
       "      <th>0</th>\n",
       "      <td>40</td>\n",
       "      <td>1</td>\n",
       "      <td>2</td>\n",
       "      <td>140</td>\n",
       "      <td>289</td>\n",
       "      <td>0</td>\n",
       "      <td>1</td>\n",
       "      <td>172</td>\n",
       "      <td>0</td>\n",
       "      <td>0.0</td>\n",
       "      <td>2</td>\n",
       "      <td>0</td>\n",
       "    </tr>\n",
       "    <tr>\n",
       "      <th>1</th>\n",
       "      <td>49</td>\n",
       "      <td>0</td>\n",
       "      <td>1</td>\n",
       "      <td>160</td>\n",
       "      <td>180</td>\n",
       "      <td>0</td>\n",
       "      <td>1</td>\n",
       "      <td>156</td>\n",
       "      <td>0</td>\n",
       "      <td>1.0</td>\n",
       "      <td>1</td>\n",
       "      <td>1</td>\n",
       "    </tr>\n",
       "    <tr>\n",
       "      <th>2</th>\n",
       "      <td>37</td>\n",
       "      <td>1</td>\n",
       "      <td>2</td>\n",
       "      <td>130</td>\n",
       "      <td>283</td>\n",
       "      <td>0</td>\n",
       "      <td>2</td>\n",
       "      <td>98</td>\n",
       "      <td>0</td>\n",
       "      <td>0.0</td>\n",
       "      <td>2</td>\n",
       "      <td>0</td>\n",
       "    </tr>\n",
       "    <tr>\n",
       "      <th>3</th>\n",
       "      <td>48</td>\n",
       "      <td>0</td>\n",
       "      <td>0</td>\n",
       "      <td>138</td>\n",
       "      <td>214</td>\n",
       "      <td>0</td>\n",
       "      <td>1</td>\n",
       "      <td>108</td>\n",
       "      <td>1</td>\n",
       "      <td>1.5</td>\n",
       "      <td>1</td>\n",
       "      <td>1</td>\n",
       "    </tr>\n",
       "    <tr>\n",
       "      <th>4</th>\n",
       "      <td>54</td>\n",
       "      <td>1</td>\n",
       "      <td>1</td>\n",
       "      <td>150</td>\n",
       "      <td>195</td>\n",
       "      <td>0</td>\n",
       "      <td>1</td>\n",
       "      <td>122</td>\n",
       "      <td>0</td>\n",
       "      <td>0.0</td>\n",
       "      <td>2</td>\n",
       "      <td>0</td>\n",
       "    </tr>\n",
       "  </tbody>\n",
       "</table>\n",
       "</div>"
      ],
      "text/plain": [
       "   Age  Sex  ChestPainType  RestingBP  Cholesterol  FastingBS  RestingECG  \\\n",
       "0   40    1              2        140          289          0           1   \n",
       "1   49    0              1        160          180          0           1   \n",
       "2   37    1              2        130          283          0           2   \n",
       "3   48    0              0        138          214          0           1   \n",
       "4   54    1              1        150          195          0           1   \n",
       "\n",
       "   MaxHR  ExerciseAngina  Oldpeak  ST_Slope  HeartDisease  \n",
       "0    172               0      0.0         2             0  \n",
       "1    156               0      1.0         1             1  \n",
       "2     98               0      0.0         2             0  \n",
       "3    108               1      1.5         1             1  \n",
       "4    122               0      0.0         2             0  "
      ]
     },
     "execution_count": 18,
     "metadata": {},
     "output_type": "execute_result"
    }
   ],
   "source": [
    "df.head()"
   ]
  },
  {
   "cell_type": "code",
   "execution_count": 19,
   "id": "08ac18d7",
   "metadata": {},
   "outputs": [
    {
     "data": {
      "text/html": [
       "<div>\n",
       "<style scoped>\n",
       "    .dataframe tbody tr th:only-of-type {\n",
       "        vertical-align: middle;\n",
       "    }\n",
       "\n",
       "    .dataframe tbody tr th {\n",
       "        vertical-align: top;\n",
       "    }\n",
       "\n",
       "    .dataframe thead th {\n",
       "        text-align: right;\n",
       "    }\n",
       "</style>\n",
       "<table border=\"1\" class=\"dataframe\">\n",
       "  <thead>\n",
       "    <tr style=\"text-align: right;\">\n",
       "      <th></th>\n",
       "      <th></th>\n",
       "      <th>Age</th>\n",
       "      <th>ChestPainType</th>\n",
       "      <th>RestingBP</th>\n",
       "      <th>Cholesterol</th>\n",
       "      <th>FastingBS</th>\n",
       "      <th>RestingECG</th>\n",
       "      <th>MaxHR</th>\n",
       "      <th>ExerciseAngina</th>\n",
       "      <th>Oldpeak</th>\n",
       "      <th>ST_Slope</th>\n",
       "    </tr>\n",
       "    <tr>\n",
       "      <th>HeartDisease</th>\n",
       "      <th>Sex</th>\n",
       "      <th></th>\n",
       "      <th></th>\n",
       "      <th></th>\n",
       "      <th></th>\n",
       "      <th></th>\n",
       "      <th></th>\n",
       "      <th></th>\n",
       "      <th></th>\n",
       "      <th></th>\n",
       "      <th></th>\n",
       "    </tr>\n",
       "  </thead>\n",
       "  <tbody>\n",
       "    <tr>\n",
       "      <th rowspan=\"2\" valign=\"top\">0</th>\n",
       "      <th>0</th>\n",
       "      <td>51.202797</td>\n",
       "      <td>1.300699</td>\n",
       "      <td>128.790210</td>\n",
       "      <td>247.440559</td>\n",
       "      <td>0.069930</td>\n",
       "      <td>0.916084</td>\n",
       "      <td>149.048951</td>\n",
       "      <td>0.111888</td>\n",
       "      <td>0.435664</td>\n",
       "      <td>1.720280</td>\n",
       "    </tr>\n",
       "    <tr>\n",
       "      <th>1</th>\n",
       "      <td>50.202247</td>\n",
       "      <td>1.202247</td>\n",
       "      <td>130.925094</td>\n",
       "      <td>216.239700</td>\n",
       "      <td>0.127341</td>\n",
       "      <td>0.966292</td>\n",
       "      <td>147.670412</td>\n",
       "      <td>0.146067</td>\n",
       "      <td>0.393258</td>\n",
       "      <td>1.749064</td>\n",
       "    </tr>\n",
       "    <tr>\n",
       "      <th rowspan=\"2\" valign=\"top\">1</th>\n",
       "      <th>0</th>\n",
       "      <td>56.180000</td>\n",
       "      <td>0.340000</td>\n",
       "      <td>142.000000</td>\n",
       "      <td>223.340000</td>\n",
       "      <td>0.320000</td>\n",
       "      <td>0.860000</td>\n",
       "      <td>137.820000</td>\n",
       "      <td>0.540000</td>\n",
       "      <td>1.336000</td>\n",
       "      <td>1.020000</td>\n",
       "    </tr>\n",
       "    <tr>\n",
       "      <th>1</th>\n",
       "      <td>55.868996</td>\n",
       "      <td>0.355895</td>\n",
       "      <td>133.331878</td>\n",
       "      <td>170.766376</td>\n",
       "      <td>0.336245</td>\n",
       "      <td>1.039301</td>\n",
       "      <td>126.545852</td>\n",
       "      <td>0.631004</td>\n",
       "      <td>1.267467</td>\n",
       "      <td>1.061135</td>\n",
       "    </tr>\n",
       "  </tbody>\n",
       "</table>\n",
       "</div>"
      ],
      "text/plain": [
       "                        Age  ChestPainType   RestingBP  Cholesterol  \\\n",
       "HeartDisease Sex                                                      \n",
       "0            0    51.202797       1.300699  128.790210   247.440559   \n",
       "             1    50.202247       1.202247  130.925094   216.239700   \n",
       "1            0    56.180000       0.340000  142.000000   223.340000   \n",
       "             1    55.868996       0.355895  133.331878   170.766376   \n",
       "\n",
       "                  FastingBS  RestingECG       MaxHR  ExerciseAngina   Oldpeak  \\\n",
       "HeartDisease Sex                                                                \n",
       "0            0     0.069930    0.916084  149.048951        0.111888  0.435664   \n",
       "             1     0.127341    0.966292  147.670412        0.146067  0.393258   \n",
       "1            0     0.320000    0.860000  137.820000        0.540000  1.336000   \n",
       "             1     0.336245    1.039301  126.545852        0.631004  1.267467   \n",
       "\n",
       "                  ST_Slope  \n",
       "HeartDisease Sex            \n",
       "0            0    1.720280  \n",
       "             1    1.749064  \n",
       "1            0    1.020000  \n",
       "             1    1.061135  "
      ]
     },
     "execution_count": 19,
     "metadata": {},
     "output_type": "execute_result"
    }
   ],
   "source": [
    "df_1=df.groupby(['HeartDisease','Sex']).mean()\n",
    "df_1"
   ]
  },
  {
   "cell_type": "code",
   "execution_count": 20,
   "id": "47aed022",
   "metadata": {},
   "outputs": [
    {
     "data": {
      "text/html": [
       "<div>\n",
       "<style scoped>\n",
       "    .dataframe tbody tr th:only-of-type {\n",
       "        vertical-align: middle;\n",
       "    }\n",
       "\n",
       "    .dataframe tbody tr th {\n",
       "        vertical-align: top;\n",
       "    }\n",
       "\n",
       "    .dataframe thead tr th {\n",
       "        text-align: left;\n",
       "    }\n",
       "\n",
       "    .dataframe thead tr:last-of-type th {\n",
       "        text-align: right;\n",
       "    }\n",
       "</style>\n",
       "<table border=\"1\" class=\"dataframe\">\n",
       "  <thead>\n",
       "    <tr>\n",
       "      <th></th>\n",
       "      <th colspan=\"2\" halign=\"left\">Age</th>\n",
       "      <th colspan=\"2\" halign=\"left\">Cholesterol</th>\n",
       "      <th colspan=\"2\" halign=\"left\">ExerciseAngina</th>\n",
       "      <th colspan=\"2\" halign=\"left\">FastingBS</th>\n",
       "      <th colspan=\"2\" halign=\"left\">MaxHR</th>\n",
       "      <th colspan=\"2\" halign=\"left\">Oldpeak</th>\n",
       "      <th colspan=\"2\" halign=\"left\">RestingBP</th>\n",
       "      <th colspan=\"2\" halign=\"left\">RestingECG</th>\n",
       "      <th colspan=\"2\" halign=\"left\">ST_Slope</th>\n",
       "      <th colspan=\"2\" halign=\"left\">Sex</th>\n",
       "    </tr>\n",
       "    <tr>\n",
       "      <th>HeartDisease</th>\n",
       "      <th>0</th>\n",
       "      <th>1</th>\n",
       "      <th>0</th>\n",
       "      <th>1</th>\n",
       "      <th>0</th>\n",
       "      <th>1</th>\n",
       "      <th>0</th>\n",
       "      <th>1</th>\n",
       "      <th>0</th>\n",
       "      <th>1</th>\n",
       "      <th>0</th>\n",
       "      <th>1</th>\n",
       "      <th>0</th>\n",
       "      <th>1</th>\n",
       "      <th>0</th>\n",
       "      <th>1</th>\n",
       "      <th>0</th>\n",
       "      <th>1</th>\n",
       "      <th>0</th>\n",
       "      <th>1</th>\n",
       "    </tr>\n",
       "    <tr>\n",
       "      <th>ChestPainType</th>\n",
       "      <th></th>\n",
       "      <th></th>\n",
       "      <th></th>\n",
       "      <th></th>\n",
       "      <th></th>\n",
       "      <th></th>\n",
       "      <th></th>\n",
       "      <th></th>\n",
       "      <th></th>\n",
       "      <th></th>\n",
       "      <th></th>\n",
       "      <th></th>\n",
       "      <th></th>\n",
       "      <th></th>\n",
       "      <th></th>\n",
       "      <th></th>\n",
       "      <th></th>\n",
       "      <th></th>\n",
       "      <th></th>\n",
       "      <th></th>\n",
       "    </tr>\n",
       "  </thead>\n",
       "  <tbody>\n",
       "    <tr>\n",
       "      <th>0</th>\n",
       "      <td>52.317308</td>\n",
       "      <td>55.660714</td>\n",
       "      <td>226.865385</td>\n",
       "      <td>175.974490</td>\n",
       "      <td>0.278846</td>\n",
       "      <td>0.683673</td>\n",
       "      <td>0.076923</td>\n",
       "      <td>0.339286</td>\n",
       "      <td>138.548077</td>\n",
       "      <td>125.806122</td>\n",
       "      <td>0.525000</td>\n",
       "      <td>1.331888</td>\n",
       "      <td>129.980769</td>\n",
       "      <td>134.091837</td>\n",
       "      <td>1.019231</td>\n",
       "      <td>1.015306</td>\n",
       "      <td>1.644231</td>\n",
       "      <td>1.048469</td>\n",
       "      <td>0.701923</td>\n",
       "      <td>0.900510</td>\n",
       "    </tr>\n",
       "    <tr>\n",
       "      <th>1</th>\n",
       "      <td>51.045802</td>\n",
       "      <td>57.430556</td>\n",
       "      <td>221.503817</td>\n",
       "      <td>153.652778</td>\n",
       "      <td>0.114504</td>\n",
       "      <td>0.500000</td>\n",
       "      <td>0.145038</td>\n",
       "      <td>0.305556</td>\n",
       "      <td>150.641221</td>\n",
       "      <td>129.763889</td>\n",
       "      <td>0.435878</td>\n",
       "      <td>1.109722</td>\n",
       "      <td>129.862595</td>\n",
       "      <td>132.958333</td>\n",
       "      <td>0.839695</td>\n",
       "      <td>1.097222</td>\n",
       "      <td>1.702290</td>\n",
       "      <td>1.041667</td>\n",
       "      <td>0.641221</td>\n",
       "      <td>0.916667</td>\n",
       "    </tr>\n",
       "    <tr>\n",
       "      <th>2</th>\n",
       "      <td>48.161074</td>\n",
       "      <td>55.958333</td>\n",
       "      <td>233.006711</td>\n",
       "      <td>233.291667</td>\n",
       "      <td>0.053691</td>\n",
       "      <td>0.375000</td>\n",
       "      <td>0.080537</td>\n",
       "      <td>0.291667</td>\n",
       "      <td>152.255034</td>\n",
       "      <td>137.500000</td>\n",
       "      <td>0.200671</td>\n",
       "      <td>0.970833</td>\n",
       "      <td>129.167785</td>\n",
       "      <td>139.666667</td>\n",
       "      <td>1.033557</td>\n",
       "      <td>0.958333</td>\n",
       "      <td>1.879195</td>\n",
       "      <td>1.166667</td>\n",
       "      <td>0.624161</td>\n",
       "      <td>0.833333</td>\n",
       "    </tr>\n",
       "    <tr>\n",
       "      <th>3</th>\n",
       "      <td>54.692308</td>\n",
       "      <td>55.000000</td>\n",
       "      <td>222.730769</td>\n",
       "      <td>186.700000</td>\n",
       "      <td>0.115385</td>\n",
       "      <td>0.150000</td>\n",
       "      <td>0.192308</td>\n",
       "      <td>0.400000</td>\n",
       "      <td>150.500000</td>\n",
       "      <td>144.500000</td>\n",
       "      <td>0.988462</td>\n",
       "      <td>1.100000</td>\n",
       "      <td>138.384615</td>\n",
       "      <td>133.850000</td>\n",
       "      <td>0.730769</td>\n",
       "      <td>0.950000</td>\n",
       "      <td>1.500000</td>\n",
       "      <td>1.150000</td>\n",
       "      <td>0.653846</td>\n",
       "      <td>0.950000</td>\n",
       "    </tr>\n",
       "  </tbody>\n",
       "</table>\n",
       "</div>"
      ],
      "text/plain": [
       "                     Age            Cholesterol             ExerciseAngina  \\\n",
       "HeartDisease           0          1           0           1              0   \n",
       "ChestPainType                                                                \n",
       "0              52.317308  55.660714  226.865385  175.974490       0.278846   \n",
       "1              51.045802  57.430556  221.503817  153.652778       0.114504   \n",
       "2              48.161074  55.958333  233.006711  233.291667       0.053691   \n",
       "3              54.692308  55.000000  222.730769  186.700000       0.115385   \n",
       "\n",
       "                        FastingBS                 MaxHR               Oldpeak  \\\n",
       "HeartDisease          1         0         1           0           1         0   \n",
       "ChestPainType                                                                   \n",
       "0              0.683673  0.076923  0.339286  138.548077  125.806122  0.525000   \n",
       "1              0.500000  0.145038  0.305556  150.641221  129.763889  0.435878   \n",
       "2              0.375000  0.080537  0.291667  152.255034  137.500000  0.200671   \n",
       "3              0.150000  0.192308  0.400000  150.500000  144.500000  0.988462   \n",
       "\n",
       "                          RestingBP             RestingECG            \\\n",
       "HeartDisease          1           0           1          0         1   \n",
       "ChestPainType                                                          \n",
       "0              1.331888  129.980769  134.091837   1.019231  1.015306   \n",
       "1              1.109722  129.862595  132.958333   0.839695  1.097222   \n",
       "2              0.970833  129.167785  139.666667   1.033557  0.958333   \n",
       "3              1.100000  138.384615  133.850000   0.730769  0.950000   \n",
       "\n",
       "               ST_Slope                 Sex            \n",
       "HeartDisease          0         1         0         1  \n",
       "ChestPainType                                          \n",
       "0              1.644231  1.048469  0.701923  0.900510  \n",
       "1              1.702290  1.041667  0.641221  0.916667  \n",
       "2              1.879195  1.166667  0.624161  0.833333  \n",
       "3              1.500000  1.150000  0.653846  0.950000  "
      ]
     },
     "execution_count": 20,
     "metadata": {},
     "output_type": "execute_result"
    }
   ],
   "source": [
    "pd.pivot_table(df,index='ChestPainType',columns='HeartDisease',aggfunc=np.mean)"
   ]
  },
  {
   "cell_type": "code",
   "execution_count": 21,
   "id": "39a6b02e",
   "metadata": {},
   "outputs": [
    {
     "data": {
      "image/png": "[encoded data removed]",
      "text/plain": [
       "<Figure size 1008x720 with 2 Axes>"
      ]
     },
     "metadata": {
      "needs_background": "light"
     },
     "output_type": "display_data"
    }
   ],
   "source": [
    "plt.figure(figsize=(14,10))\n",
    "sns.heatmap(df.corr(),annot=True,cmap='hsv',fmt='.3f',linewidths=2)\n",
    "plt.show()"
   ]
  },
  {
   "cell_type": "code",
   "execution_count": 22,
   "id": "d5d4bf89",
   "metadata": {},
   "outputs": [
    {
     "data": {
      "text/plain": [
       "(1, 12)"
      ]
     },
     "execution_count": 22,
     "metadata": {},
     "output_type": "execute_result"
    }
   ],
   "source": [
    "mydata=df[df['RestingBP']==0]\n",
    "mydata.shape"
   ]
  },
  {
   "cell_type": "code",
   "execution_count": 23,
   "id": "a7e6be7c",
   "metadata": {},
   "outputs": [
    {
     "data": {
      "text/plain": [
       "(172, 12)"
      ]
     },
     "execution_count": 23,
     "metadata": {},
     "output_type": "execute_result"
    }
   ],
   "source": [
    "mydata_1=df[df['Cholesterol']==0]\n",
    "mydata_1.shape"
   ]
  },
  {
   "cell_type": "code",
   "execution_count": 24,
   "id": "c409feb0",
   "metadata": {},
   "outputs": [],
   "source": [
    "df_1 = df"
   ]
  },
  {
   "cell_type": "code",
   "execution_count": 25,
   "id": "6bbcb62b",
   "metadata": {},
   "outputs": [],
   "source": [
    "df_1['Cholesterol']=df_1['Cholesterol'].replace(0, np.nan)"
   ]
  },
  {
   "cell_type": "code",
   "execution_count": 26,
   "id": "e24738b4",
   "metadata": {},
   "outputs": [],
   "source": [
    "df_1['RestingBP']=df_1['RestingBP'].replace(0, np.nan)"
   ]
  },
  {
   "cell_type": "code",
   "execution_count": 27,
   "id": "67150842",
   "metadata": {},
   "outputs": [
    {
     "name": "stdout",
     "output_type": "stream",
     "text": [
      "<class 'pandas.core.frame.DataFrame'>\n",
      "RangeIndex: 918 entries, 0 to 917\n",
      "Data columns (total 12 columns):\n",
      " #   Column          Non-Null Count  Dtype  \n",
      "---  ------          --------------  -----  \n",
      " 0   Age             918 non-null    int64  \n",
      " 1   Sex             918 non-null    int64  \n",
      " 2   ChestPainType   918 non-null    int64  \n",
      " 3   RestingBP       917 non-null    float64\n",
      " 4   Cholesterol     746 non-null    float64\n",
      " 5   FastingBS       918 non-null    int64  \n",
      " 6   RestingECG      918 non-null    int64  \n",
      " 7   MaxHR           918 non-null    int64  \n",
      " 8   ExerciseAngina  918 non-null    int64  \n",
      " 9   Oldpeak         918 non-null    float64\n",
      " 10  ST_Slope        918 non-null    int64  \n",
      " 11  HeartDisease    918 non-null    int64  \n",
      "dtypes: float64(3), int64(9)\n",
      "memory usage: 86.2 KB\n"
     ]
    }
   ],
   "source": [
    "df_1.info()"
   ]
  },
  {
   "cell_type": "code",
   "execution_count": 28,
   "id": "1ef63f73",
   "metadata": {},
   "outputs": [],
   "source": [
    "def to_one_hot(dataframe, columns):\n",
    "    \n",
    "    one_hot_df =  pd.get_dummies(data=dataframe, columns = columns, drop_first = True, dtype=np.float64)\n",
    "    \n",
    "    return one_hot_df"
   ]
  },
  {
   "cell_type": "code",
   "execution_count": 29,
   "id": "ddfcb445",
   "metadata": {},
   "outputs": [],
   "source": [
    "to_encode = ['ChestPainType', 'RestingECG', 'ST_Slope']\n",
    "\n",
    "one_hot_df = to_one_hot(df_1, to_encode)"
   ]
  },
  {
   "cell_type": "code",
   "execution_count": 30,
   "id": "4435e41d",
   "metadata": {},
   "outputs": [
    {
     "name": "stdout",
     "output_type": "stream",
     "text": [
      "(918, 16)\n"
     ]
    },
    {
     "data": {
      "text/html": [
       "<div>\n",
       "<style scoped>\n",
       "    .dataframe tbody tr th:only-of-type {\n",
       "        vertical-align: middle;\n",
       "    }\n",
       "\n",
       "    .dataframe tbody tr th {\n",
       "        vertical-align: top;\n",
       "    }\n",
       "\n",
       "    .dataframe thead th {\n",
       "        text-align: right;\n",
       "    }\n",
       "</style>\n",
       "<table border=\"1\" class=\"dataframe\">\n",
       "  <thead>\n",
       "    <tr style=\"text-align: right;\">\n",
       "      <th></th>\n",
       "      <th>Age</th>\n",
       "      <th>Sex</th>\n",
       "      <th>RestingBP</th>\n",
       "      <th>Cholesterol</th>\n",
       "      <th>FastingBS</th>\n",
       "      <th>MaxHR</th>\n",
       "      <th>ExerciseAngina</th>\n",
       "      <th>Oldpeak</th>\n",
       "      <th>HeartDisease</th>\n",
       "      <th>ChestPainType_1</th>\n",
       "      <th>ChestPainType_2</th>\n",
       "      <th>ChestPainType_3</th>\n",
       "      <th>RestingECG_1</th>\n",
       "      <th>RestingECG_2</th>\n",
       "      <th>ST_Slope_1</th>\n",
       "      <th>ST_Slope_2</th>\n",
       "    </tr>\n",
       "  </thead>\n",
       "  <tbody>\n",
       "    <tr>\n",
       "      <th>0</th>\n",
       "      <td>40</td>\n",
       "      <td>1</td>\n",
       "      <td>140.0</td>\n",
       "      <td>289.0</td>\n",
       "      <td>0</td>\n",
       "      <td>172</td>\n",
       "      <td>0</td>\n",
       "      <td>0.0</td>\n",
       "      <td>0</td>\n",
       "      <td>0.0</td>\n",
       "      <td>1.0</td>\n",
       "      <td>0.0</td>\n",
       "      <td>1.0</td>\n",
       "      <td>0.0</td>\n",
       "      <td>0.0</td>\n",
       "      <td>1.0</td>\n",
       "    </tr>\n",
       "    <tr>\n",
       "      <th>1</th>\n",
       "      <td>49</td>\n",
       "      <td>0</td>\n",
       "      <td>160.0</td>\n",
       "      <td>180.0</td>\n",
       "      <td>0</td>\n",
       "      <td>156</td>\n",
       "      <td>0</td>\n",
       "      <td>1.0</td>\n",
       "      <td>1</td>\n",
       "      <td>1.0</td>\n",
       "      <td>0.0</td>\n",
       "      <td>0.0</td>\n",
       "      <td>1.0</td>\n",
       "      <td>0.0</td>\n",
       "      <td>1.0</td>\n",
       "      <td>0.0</td>\n",
       "    </tr>\n",
       "    <tr>\n",
       "      <th>2</th>\n",
       "      <td>37</td>\n",
       "      <td>1</td>\n",
       "      <td>130.0</td>\n",
       "      <td>283.0</td>\n",
       "      <td>0</td>\n",
       "      <td>98</td>\n",
       "      <td>0</td>\n",
       "      <td>0.0</td>\n",
       "      <td>0</td>\n",
       "      <td>0.0</td>\n",
       "      <td>1.0</td>\n",
       "      <td>0.0</td>\n",
       "      <td>0.0</td>\n",
       "      <td>1.0</td>\n",
       "      <td>0.0</td>\n",
       "      <td>1.0</td>\n",
       "    </tr>\n",
       "    <tr>\n",
       "      <th>3</th>\n",
       "      <td>48</td>\n",
       "      <td>0</td>\n",
       "      <td>138.0</td>\n",
       "      <td>214.0</td>\n",
       "      <td>0</td>\n",
       "      <td>108</td>\n",
       "      <td>1</td>\n",
       "      <td>1.5</td>\n",
       "      <td>1</td>\n",
       "      <td>0.0</td>\n",
       "      <td>0.0</td>\n",
       "      <td>0.0</td>\n",
       "      <td>1.0</td>\n",
       "      <td>0.0</td>\n",
       "      <td>1.0</td>\n",
       "      <td>0.0</td>\n",
       "    </tr>\n",
       "    <tr>\n",
       "      <th>4</th>\n",
       "      <td>54</td>\n",
       "      <td>1</td>\n",
       "      <td>150.0</td>\n",
       "      <td>195.0</td>\n",
       "      <td>0</td>\n",
       "      <td>122</td>\n",
       "      <td>0</td>\n",
       "      <td>0.0</td>\n",
       "      <td>0</td>\n",
       "      <td>1.0</td>\n",
       "      <td>0.0</td>\n",
       "      <td>0.0</td>\n",
       "      <td>1.0</td>\n",
       "      <td>0.0</td>\n",
       "      <td>0.0</td>\n",
       "      <td>1.0</td>\n",
       "    </tr>\n",
       "  </tbody>\n",
       "</table>\n",
       "</div>"
      ],
      "text/plain": [
       "   Age  Sex  RestingBP  Cholesterol  FastingBS  MaxHR  ExerciseAngina  \\\n",
       "0   40    1      140.0        289.0          0    172               0   \n",
       "1   49    0      160.0        180.0          0    156               0   \n",
       "2   37    1      130.0        283.0          0     98               0   \n",
       "3   48    0      138.0        214.0          0    108               1   \n",
       "4   54    1      150.0        195.0          0    122               0   \n",
       "\n",
       "   Oldpeak  HeartDisease  ChestPainType_1  ChestPainType_2  ChestPainType_3  \\\n",
       "0      0.0             0              0.0              1.0              0.0   \n",
       "1      1.0             1              1.0              0.0              0.0   \n",
       "2      0.0             0              0.0              1.0              0.0   \n",
       "3      1.5             1              0.0              0.0              0.0   \n",
       "4      0.0             0              1.0              0.0              0.0   \n",
       "\n",
       "   RestingECG_1  RestingECG_2  ST_Slope_1  ST_Slope_2  \n",
       "0           1.0           0.0         0.0         1.0  \n",
       "1           1.0           0.0         1.0         0.0  \n",
       "2           0.0           1.0         0.0         1.0  \n",
       "3           1.0           0.0         1.0         0.0  \n",
       "4           1.0           0.0         0.0         1.0  "
      ]
     },
     "execution_count": 30,
     "metadata": {},
     "output_type": "execute_result"
    }
   ],
   "source": [
    "print(one_hot_df.shape)\n",
    "one_hot_df.head()"
   ]
  },
  {
   "cell_type": "code",
   "execution_count": 31,
   "id": "cfc70980",
   "metadata": {},
   "outputs": [],
   "source": [
    "X = one_hot_df.drop('HeartDisease', axis=1)\n",
    "y = one_hot_df['HeartDisease']"
   ]
  },
  {
   "cell_type": "code",
   "execution_count": 32,
   "id": "3d41775f",
   "metadata": {},
   "outputs": [
    {
     "name": "stderr",
     "output_type": "stream",
     "text": [
      "[IterativeImputer] Early stopping criterion not reached.\n"
     ]
    }
   ],
   "source": [
    "imputer = IterativeImputer(random_state=0, sample_posterior=False, max_iter=1, min_value=0)\n",
    "imputer.fit(X)\n",
    "X = pd.DataFrame(imputer.transform(X), columns=X.columns)"
   ]
  },
  {
   "cell_type": "code",
   "execution_count": 33,
   "id": "fbdb0d0c",
   "metadata": {},
   "outputs": [
    {
     "name": "stdout",
     "output_type": "stream",
     "text": [
      "<class 'pandas.core.frame.DataFrame'>\n",
      "RangeIndex: 918 entries, 0 to 917\n",
      "Data columns (total 15 columns):\n",
      " #   Column           Non-Null Count  Dtype  \n",
      "---  ------           --------------  -----  \n",
      " 0   Age              918 non-null    float64\n",
      " 1   Sex              918 non-null    float64\n",
      " 2   RestingBP        918 non-null    float64\n",
      " 3   Cholesterol      918 non-null    float64\n",
      " 4   FastingBS        918 non-null    float64\n",
      " 5   MaxHR            918 non-null    float64\n",
      " 6   ExerciseAngina   918 non-null    float64\n",
      " 7   Oldpeak          918 non-null    float64\n",
      " 8   ChestPainType_1  918 non-null    float64\n",
      " 9   ChestPainType_2  918 non-null    float64\n",
      " 10  ChestPainType_3  918 non-null    float64\n",
      " 11  RestingECG_1     918 non-null    float64\n",
      " 12  RestingECG_2     918 non-null    float64\n",
      " 13  ST_Slope_1       918 non-null    float64\n",
      " 14  ST_Slope_2       918 non-null    float64\n",
      "dtypes: float64(15)\n",
      "memory usage: 107.7 KB\n"
     ]
    }
   ],
   "source": [
    "X.info()"
   ]
  },
  {
   "cell_type": "code",
   "execution_count": 34,
   "id": "5ecbc82f",
   "metadata": {},
   "outputs": [
    {
     "name": "stdout",
     "output_type": "stream",
     "text": [
      "(918, 15) (900, 15) (900,)\n"
     ]
    }
   ],
   "source": [
    "lof = LocalOutlierFactor()\n",
    "res = lof.fit_predict(X)\n",
    "X_o = X[res != -1]\n",
    "y_o = y[res != -1]\n",
    "print(X.shape, X_o.shape, y_o.shape)"
   ]
  },
  {
   "cell_type": "code",
   "execution_count": 35,
   "id": "a8be80a2",
   "metadata": {},
   "outputs": [],
   "source": [
    "X_dev, X_test, y_dev, y_test = train_test_split(X_o, y_o, test_size=0.20, random_state=0)"
   ]
  },
  {
   "cell_type": "code",
   "execution_count": 36,
   "id": "af68867c",
   "metadata": {},
   "outputs": [],
   "source": [
    "X_train, X_val, y_train, y_val = train_test_split(X_dev, y_dev, test_size=0.25, random_state=0)"
   ]
  },
  {
   "cell_type": "code",
   "execution_count": 37,
   "id": "f67245e4",
   "metadata": {},
   "outputs": [],
   "source": [
    "X_test_1= X_test.copy(deep=True)"
   ]
  },
  {
   "cell_type": "code",
   "execution_count": 38,
   "id": "06b4ead0",
   "metadata": {},
   "outputs": [
    {
     "name": "stdout",
     "output_type": "stream",
     "text": [
      "Total number of patients: 918\n",
      "Total number of patients in training set: 540\n",
      "Total number of patients in validation set: 180\n",
      "Total number of patients in test set: 180\n"
     ]
    }
   ],
   "source": [
    "print(\"Total number of patients:\", X.shape[0])\n",
    "print(\"Total number of patients in training set:\", X_train.shape[0])\n",
    "print(\"Total number of patients in validation set:\", X_val.shape[0])\n",
    "print(\"Total number of patients in test set:\", X_test.shape[0])"
   ]
  },
  {
   "cell_type": "code",
   "execution_count": 39,
   "id": "40bf3909",
   "metadata": {},
   "outputs": [
    {
     "data": {
      "text/html": [
       "<div>\n",
       "<style scoped>\n",
       "    .dataframe tbody tr th:only-of-type {\n",
       "        vertical-align: middle;\n",
       "    }\n",
       "\n",
       "    .dataframe tbody tr th {\n",
       "        vertical-align: top;\n",
       "    }\n",
       "\n",
       "    .dataframe thead th {\n",
       "        text-align: right;\n",
       "    }\n",
       "</style>\n",
       "<table border=\"1\" class=\"dataframe\">\n",
       "  <thead>\n",
       "    <tr style=\"text-align: right;\">\n",
       "      <th></th>\n",
       "      <th>Age</th>\n",
       "      <th>RestingBP</th>\n",
       "      <th>Cholesterol</th>\n",
       "      <th>FastingBS</th>\n",
       "      <th>MaxHR</th>\n",
       "      <th>Oldpeak</th>\n",
       "    </tr>\n",
       "  </thead>\n",
       "  <tbody>\n",
       "    <tr>\n",
       "      <th>count</th>\n",
       "      <td>540.000000</td>\n",
       "      <td>540.000000</td>\n",
       "      <td>540.000000</td>\n",
       "      <td>540.000000</td>\n",
       "      <td>540.000000</td>\n",
       "      <td>540.000000</td>\n",
       "    </tr>\n",
       "    <tr>\n",
       "      <th>mean</th>\n",
       "      <td>53.355556</td>\n",
       "      <td>132.350000</td>\n",
       "      <td>241.443614</td>\n",
       "      <td>0.222222</td>\n",
       "      <td>137.281481</td>\n",
       "      <td>0.876667</td>\n",
       "    </tr>\n",
       "    <tr>\n",
       "      <th>std</th>\n",
       "      <td>9.499315</td>\n",
       "      <td>17.647909</td>\n",
       "      <td>46.804521</td>\n",
       "      <td>0.416125</td>\n",
       "      <td>25.383194</td>\n",
       "      <td>1.055005</td>\n",
       "    </tr>\n",
       "    <tr>\n",
       "      <th>min</th>\n",
       "      <td>28.000000</td>\n",
       "      <td>80.000000</td>\n",
       "      <td>100.000000</td>\n",
       "      <td>0.000000</td>\n",
       "      <td>63.000000</td>\n",
       "      <td>-1.500000</td>\n",
       "    </tr>\n",
       "    <tr>\n",
       "      <th>25%</th>\n",
       "      <td>46.750000</td>\n",
       "      <td>120.000000</td>\n",
       "      <td>213.750000</td>\n",
       "      <td>0.000000</td>\n",
       "      <td>118.000000</td>\n",
       "      <td>0.000000</td>\n",
       "    </tr>\n",
       "    <tr>\n",
       "      <th>50%</th>\n",
       "      <td>54.000000</td>\n",
       "      <td>130.000000</td>\n",
       "      <td>242.677050</td>\n",
       "      <td>0.000000</td>\n",
       "      <td>139.000000</td>\n",
       "      <td>0.500000</td>\n",
       "    </tr>\n",
       "    <tr>\n",
       "      <th>75%</th>\n",
       "      <td>60.000000</td>\n",
       "      <td>140.000000</td>\n",
       "      <td>263.000000</td>\n",
       "      <td>0.000000</td>\n",
       "      <td>156.000000</td>\n",
       "      <td>1.500000</td>\n",
       "    </tr>\n",
       "    <tr>\n",
       "      <th>max</th>\n",
       "      <td>77.000000</td>\n",
       "      <td>200.000000</td>\n",
       "      <td>417.000000</td>\n",
       "      <td>1.000000</td>\n",
       "      <td>202.000000</td>\n",
       "      <td>6.200000</td>\n",
       "    </tr>\n",
       "  </tbody>\n",
       "</table>\n",
       "</div>"
      ],
      "text/plain": [
       "              Age   RestingBP  Cholesterol   FastingBS       MaxHR     Oldpeak\n",
       "count  540.000000  540.000000   540.000000  540.000000  540.000000  540.000000\n",
       "mean    53.355556  132.350000   241.443614    0.222222  137.281481    0.876667\n",
       "std      9.499315   17.647909    46.804521    0.416125   25.383194    1.055005\n",
       "min     28.000000   80.000000   100.000000    0.000000   63.000000   -1.500000\n",
       "25%     46.750000  120.000000   213.750000    0.000000  118.000000    0.000000\n",
       "50%     54.000000  130.000000   242.677050    0.000000  139.000000    0.500000\n",
       "75%     60.000000  140.000000   263.000000    0.000000  156.000000    1.500000\n",
       "max     77.000000  200.000000   417.000000    1.000000  202.000000    6.200000"
      ]
     },
     "execution_count": 39,
     "metadata": {},
     "output_type": "execute_result"
    }
   ],
   "source": [
    "X_train.loc[:, continuous_columns].describe()"
   ]
  },
  {
   "cell_type": "code",
   "execution_count": 40,
   "id": "d8f24822",
   "metadata": {},
   "outputs": [],
   "source": [
    "mean = X_train.loc[:, continuous_columns].mean()\n",
    "std = X_train.loc[:, continuous_columns].std()\n",
    "X_train.loc[:, continuous_columns] = (X_train.loc[:, continuous_columns] - mean) / std\n",
    "X_val.loc[:, continuous_columns] = (X_val.loc[:, continuous_columns] - mean) / std\n",
    "X_test.loc[:, continuous_columns] = (X_test.loc[:, continuous_columns] - mean) / std"
   ]
  },
  {
   "cell_type": "code",
   "execution_count": 41,
   "id": "da8788c7",
   "metadata": {},
   "outputs": [
    {
     "data": {
      "text/html": [
       "<div>\n",
       "<style scoped>\n",
       "    .dataframe tbody tr th:only-of-type {\n",
       "        vertical-align: middle;\n",
       "    }\n",
       "\n",
       "    .dataframe tbody tr th {\n",
       "        vertical-align: top;\n",
       "    }\n",
       "\n",
       "    .dataframe thead th {\n",
       "        text-align: right;\n",
       "    }\n",
       "</style>\n",
       "<table border=\"1\" class=\"dataframe\">\n",
       "  <thead>\n",
       "    <tr style=\"text-align: right;\">\n",
       "      <th></th>\n",
       "      <th>Age</th>\n",
       "      <th>RestingBP</th>\n",
       "      <th>Cholesterol</th>\n",
       "      <th>FastingBS</th>\n",
       "      <th>MaxHR</th>\n",
       "      <th>Oldpeak</th>\n",
       "    </tr>\n",
       "  </thead>\n",
       "  <tbody>\n",
       "    <tr>\n",
       "      <th>count</th>\n",
       "      <td>5.400000e+02</td>\n",
       "      <td>5.400000e+02</td>\n",
       "      <td>5.400000e+02</td>\n",
       "      <td>5.400000e+02</td>\n",
       "      <td>5.400000e+02</td>\n",
       "      <td>5.400000e+02</td>\n",
       "    </tr>\n",
       "    <tr>\n",
       "      <th>mean</th>\n",
       "      <td>1.375957e-16</td>\n",
       "      <td>3.508510e-16</td>\n",
       "      <td>1.521725e-15</td>\n",
       "      <td>-1.784581e-16</td>\n",
       "      <td>1.578984e-16</td>\n",
       "      <td>-2.415763e-16</td>\n",
       "    </tr>\n",
       "    <tr>\n",
       "      <th>std</th>\n",
       "      <td>1.000000e+00</td>\n",
       "      <td>1.000000e+00</td>\n",
       "      <td>1.000000e+00</td>\n",
       "      <td>1.000000e+00</td>\n",
       "      <td>1.000000e+00</td>\n",
       "      <td>1.000000e+00</td>\n",
       "    </tr>\n",
       "    <tr>\n",
       "      <th>min</th>\n",
       "      <td>-2.669198e+00</td>\n",
       "      <td>-2.966357e+00</td>\n",
       "      <td>-3.022008e+00</td>\n",
       "      <td>-5.340273e-01</td>\n",
       "      <td>-2.926404e+00</td>\n",
       "      <td>-2.252754e+00</td>\n",
       "    </tr>\n",
       "    <tr>\n",
       "      <th>25%</th>\n",
       "      <td>-6.953718e-01</td>\n",
       "      <td>-6.997996e-01</td>\n",
       "      <td>-5.916867e-01</td>\n",
       "      <td>-5.340273e-01</td>\n",
       "      <td>-7.596161e-01</td>\n",
       "      <td>-8.309598e-01</td>\n",
       "    </tr>\n",
       "    <tr>\n",
       "      <th>50%</th>\n",
       "      <td>6.784115e-02</td>\n",
       "      <td>-1.331602e-01</td>\n",
       "      <td>2.635293e-02</td>\n",
       "      <td>-5.340273e-01</td>\n",
       "      <td>6.770301e-02</td>\n",
       "      <td>-3.570284e-01</td>\n",
       "    </tr>\n",
       "    <tr>\n",
       "      <th>75%</th>\n",
       "      <td>6.994657e-01</td>\n",
       "      <td>4.334791e-01</td>\n",
       "      <td>4.605620e-01</td>\n",
       "      <td>-5.340273e-01</td>\n",
       "      <td>7.374375e-01</td>\n",
       "      <td>5.908346e-01</td>\n",
       "    </tr>\n",
       "    <tr>\n",
       "      <th>max</th>\n",
       "      <td>2.489068e+00</td>\n",
       "      <td>3.833315e+00</td>\n",
       "      <td>3.750842e+00</td>\n",
       "      <td>1.869096e+00</td>\n",
       "      <td>2.549660e+00</td>\n",
       "      <td>5.045790e+00</td>\n",
       "    </tr>\n",
       "  </tbody>\n",
       "</table>\n",
       "</div>"
      ],
      "text/plain": [
       "                Age     RestingBP   Cholesterol     FastingBS         MaxHR  \\\n",
       "count  5.400000e+02  5.400000e+02  5.400000e+02  5.400000e+02  5.400000e+02   \n",
       "mean   1.375957e-16  3.508510e-16  1.521725e-15 -1.784581e-16  1.578984e-16   \n",
       "std    1.000000e+00  1.000000e+00  1.000000e+00  1.000000e+00  1.000000e+00   \n",
       "min   -2.669198e+00 -2.966357e+00 -3.022008e+00 -5.340273e-01 -2.926404e+00   \n",
       "25%   -6.953718e-01 -6.997996e-01 -5.916867e-01 -5.340273e-01 -7.596161e-01   \n",
       "50%    6.784115e-02 -1.331602e-01  2.635293e-02 -5.340273e-01  6.770301e-02   \n",
       "75%    6.994657e-01  4.334791e-01  4.605620e-01 -5.340273e-01  7.374375e-01   \n",
       "max    2.489068e+00  3.833315e+00  3.750842e+00  1.869096e+00  2.549660e+00   \n",
       "\n",
       "            Oldpeak  \n",
       "count  5.400000e+02  \n",
       "mean  -2.415763e-16  \n",
       "std    1.000000e+00  \n",
       "min   -2.252754e+00  \n",
       "25%   -8.309598e-01  \n",
       "50%   -3.570284e-01  \n",
       "75%    5.908346e-01  \n",
       "max    5.045790e+00  "
      ]
     },
     "execution_count": 41,
     "metadata": {},
     "output_type": "execute_result"
    }
   ],
   "source": [
    "X_train.loc[:, continuous_columns].describe()"
   ]
  },
  {
   "cell_type": "code",
   "execution_count": 42,
   "id": "6c95977b",
   "metadata": {},
   "outputs": [
    {
     "name": "stdout",
     "output_type": "stream",
     "text": [
      "1    288\n",
      "0    252\n",
      "Name: HeartDisease, dtype: int64\n"
     ]
    },
    {
     "name": "stderr",
     "output_type": "stream",
     "text": [
      "Pass the following variable as a keyword arg: x. From version 0.12, the only valid positional argument will be `data`, and passing other arguments without an explicit keyword will result in an error or misinterpretation.\n"
     ]
    },
    {
     "data": {
      "text/plain": [
       "<AxesSubplot:xlabel='HeartDisease', ylabel='count'>"
      ]
     },
     "execution_count": 42,
     "metadata": {},
     "output_type": "execute_result"
    },
    {
     "data": {
      "image/png": "[encoded data removed]",
      "text/plain": [
       "<Figure size 432x288 with 1 Axes>"
      ]
     },
     "metadata": {
      "needs_background": "light"
     },
     "output_type": "display_data"
    }
   ],
   "source": [
    "print(y_train.value_counts())\n",
    "sns.countplot(y_train)"
   ]
  },
  {
   "cell_type": "code",
   "execution_count": 43,
   "id": "3b330c67",
   "metadata": {},
   "outputs": [],
   "source": [
    "oversample = SMOTE()\n",
    "X_train, y_train = oversample.fit_resample(X_train, y_train)"
   ]
  },
  {
   "cell_type": "code",
   "execution_count": 44,
   "id": "f039bc44",
   "metadata": {},
   "outputs": [
    {
     "name": "stderr",
     "output_type": "stream",
     "text": [
      "Pass the following variable as a keyword arg: x. From version 0.12, the only valid positional argument will be `data`, and passing other arguments without an explicit keyword will result in an error or misinterpretation.\n"
     ]
    },
    {
     "data": {
      "text/plain": [
       "<AxesSubplot:xlabel='HeartDisease', ylabel='count'>"
      ]
     },
     "execution_count": 44,
     "metadata": {},
     "output_type": "execute_result"
    },
    {
     "data": {
      "image/png": "[encoded data removed]",
      "text/plain": [
       "<Figure size 432x288 with 1 Axes>"
      ]
     },
     "metadata": {
      "needs_background": "light"
     },
     "output_type": "display_data"
    }
   ],
   "source": [
    "y_train.value_counts()\n",
    "sns.countplot(y_train)"
   ]
  },
  {
   "cell_type": "code",
   "execution_count": 45,
   "id": "8833c0ea",
   "metadata": {},
   "outputs": [],
   "source": [
    "def get_cindex(y_true, scores):\n",
    "    \n",
    "    n = len(y_true)\n",
    "    assert len(scores) == n\n",
    "\n",
    "    concordant = 0\n",
    "    permissible = 0\n",
    "    ties = 0\n",
    "    \n",
    "    \n",
    "    for i in range(n):\n",
    "        for j in range(i + 1, n):  \n",
    "            if y_true[i] != y_true[j]:\n",
    "                permissible += 1\n",
    "\n",
    "                if scores[i] == scores[j]:\n",
    "                    ties += 1\n",
    "                    continue\n",
    "\n",
    "               \n",
    "                if y_true[i] == 0 and y_true[j] == 1:\n",
    "                    if scores[i] < scores[j]:\n",
    "                        concordant += 1\n",
    "                   \n",
    "                if y_true[i] == 1 and y_true[j] == 0:\n",
    "                    if scores[i] > scores[j]:\n",
    "                        concordant += 1\n",
    "                    \n",
    "    c_index = (concordant + 0.5 * ties) / (permissible)\n",
    "    \n",
    "    \n",
    "    return c_index"
   ]
  },
  {
   "cell_type": "code",
   "execution_count": 46,
   "id": "9aaaedc0",
   "metadata": {},
   "outputs": [
    {
     "data": {
      "text/html": [
       "<style>#sk-container-id-1 {color: black;background-color: white;}#sk-container-id-1 pre{padding: 0;}#sk-container-id-1 div.sk-toggleable {background-color: white;}#sk-container-id-1 label.sk-toggleable__label {cursor: pointer;display: block;width: 100%;margin-bottom: 0;padding: 0.3em;box-sizing: border-box;text-align: center;}#sk-container-id-1 label.sk-toggleable__label-arrow:before {content: \"▸\";float: left;margin-right: 0.25em;color: #696969;}#sk-container-id-1 label.sk-toggleable__label-arrow:hover:before {color: black;}#sk-container-id-1 div.sk-estimator:hover label.sk-toggleable__label-arrow:before {color: black;}#sk-container-id-1 div.sk-toggleable__content {max-height: 0;max-width: 0;overflow: hidden;text-align: left;background-color: #f0f8ff;}#sk-container-id-1 div.sk-toggleable__content pre {margin: 0.2em;color: black;border-radius: 0.25em;background-color: #f0f8ff;}#sk-container-id-1 input.sk-toggleable__control:checked~div.sk-toggleable__content {max-height: 200px;max-width: 100%;overflow: auto;}#sk-container-id-1 input.sk-toggleable__control:checked~label.sk-toggleable__label-arrow:before {content: \"▾\";}#sk-container-id-1 div.sk-estimator input.sk-toggleable__control:checked~label.sk-toggleable__label {background-color: #d4ebff;}#sk-container-id-1 div.sk-label input.sk-toggleable__control:checked~label.sk-toggleable__label {background-color: #d4ebff;}#sk-container-id-1 input.sk-hidden--visually {border: 0;clip: rect(1px 1px 1px 1px);clip: rect(1px, 1px, 1px, 1px);height: 1px;margin: -1px;overflow: hidden;padding: 0;position: absolute;width: 1px;}#sk-container-id-1 div.sk-estimator {font-family: monospace;background-color: #f0f8ff;border: 1px dotted black;border-radius: 0.25em;box-sizing: border-box;margin-bottom: 0.5em;}#sk-container-id-1 div.sk-estimator:hover {background-color: #d4ebff;}#sk-container-id-1 div.sk-parallel-item::after {content: \"\";width: 100%;border-bottom: 1px solid gray;flex-grow: 1;}#sk-container-id-1 div.sk-label:hover label.sk-toggleable__label {background-color: #d4ebff;}#sk-container-id-1 div.sk-serial::before {content: \"\";position: absolute;border-left: 1px solid gray;box-sizing: border-box;top: 0;bottom: 0;left: 50%;z-index: 0;}#sk-container-id-1 div.sk-serial {display: flex;flex-direction: column;align-items: center;background-color: white;padding-right: 0.2em;padding-left: 0.2em;position: relative;}#sk-container-id-1 div.sk-item {position: relative;z-index: 1;}#sk-container-id-1 div.sk-parallel {display: flex;align-items: stretch;justify-content: center;background-color: white;position: relative;}#sk-container-id-1 div.sk-item::before, #sk-container-id-1 div.sk-parallel-item::before {content: \"\";position: absolute;border-left: 1px solid gray;box-sizing: border-box;top: 0;bottom: 0;left: 50%;z-index: -1;}#sk-container-id-1 div.sk-parallel-item {display: flex;flex-direction: column;z-index: 1;position: relative;background-color: white;}#sk-container-id-1 div.sk-parallel-item:first-child::after {align-self: flex-end;width: 50%;}#sk-container-id-1 div.sk-parallel-item:last-child::after {align-self: flex-start;width: 50%;}#sk-container-id-1 div.sk-parallel-item:only-child::after {width: 0;}#sk-container-id-1 div.sk-dashed-wrapped {border: 1px dashed gray;margin: 0 0.4em 0.5em 0.4em;box-sizing: border-box;padding-bottom: 0.4em;background-color: white;}#sk-container-id-1 div.sk-label label {font-family: monospace;font-weight: bold;display: inline-block;line-height: 1.2em;}#sk-container-id-1 div.sk-label-container {text-align: center;}#sk-container-id-1 div.sk-container {/* jupyter's `normalize.less` sets `[hidden] { display: none; }` but bootstrap.min.css set `[hidden] { display: none !important; }` so we also need the `!important` here to be able to override the default hidden behavior on the sphinx rendered scikit-learn.org. See: https://github.com/scikit-learn/scikit-learn/issues/21755 */display: inline-block !important;position: relative;}#sk-container-id-1 div.sk-text-repr-fallback {display: none;}</style><div id=\"sk-container-id-1\" class=\"sk-top-container\"><div class=\"sk-text-repr-fallback\"><pre>RandomForestClassifier(random_state=10)</pre><b>In a Jupyter environment, please rerun this cell to show the HTML representation or trust the notebook. <br />On GitHub, the HTML representation is unable to render, please try loading this page with nbviewer.org.</b></div><div class=\"sk-container\" hidden><div class=\"sk-item\"><div class=\"sk-estimator sk-toggleable\"><input class=\"sk-toggleable__control sk-hidden--visually\" id=\"sk-estimator-id-1\" type=\"checkbox\" checked><label for=\"sk-estimator-id-1\" class=\"sk-toggleable__label sk-toggleable__label-arrow\">RandomForestClassifier</label><div class=\"sk-toggleable__content\"><pre>RandomForestClassifier(random_state=10)</pre></div></div></div></div></div>"
      ],
      "text/plain": [
       "RandomForestClassifier(random_state=10)"
      ]
     },
     "execution_count": 46,
     "metadata": {},
     "output_type": "execute_result"
    }
   ],
   "source": [
    "rf = RandomForestClassifier(n_estimators=100, random_state=10)\n",
    "rf.fit(X_train, y_train)"
   ]
  },
  {
   "cell_type": "code",
   "execution_count": 47,
   "id": "24233bbe",
   "metadata": {},
   "outputs": [
    {
     "name": "stdout",
     "output_type": "stream",
     "text": [
      "Train C-Index: 1.0\n",
      "Val C-Index: 0.9047680578886161\n"
     ]
    }
   ],
   "source": [
    "y_train_rf_preds = rf.predict_proba(X_train)[:, 1]\n",
    "print(f\"Train C-Index: {get_cindex(y_train.values, y_train_rf_preds)}\")\n",
    "\n",
    "y_val_rf_preds = rf.predict_proba(X_val)[:, 1]\n",
    "print(f\"Val C-Index: {get_cindex(y_val.values, y_val_rf_preds)}\")"
   ]
  },
  {
   "cell_type": "code",
   "execution_count": 48,
   "id": "32096156",
   "metadata": {},
   "outputs": [],
   "source": [
    "def holdout_grid_search(clf, X_train_hp, y_train_hp, X_val_hp, y_val_hp, hyperparams, fixed_hyperparams={}):\n",
    "    \n",
    "    best_estimator = None\n",
    "    best_hyperparams = {}\n",
    "    \n",
    "    best_score = 0.0\n",
    "\n",
    "    \n",
    "    lists = hyperparams.values()\n",
    "    \n",
    "    \n",
    "    param_combinations = list(itertools.product(*lists))\n",
    "    total_param_combinations = len(param_combinations)\n",
    "\n",
    "   \n",
    "    for i, params in enumerate(param_combinations, 1):\n",
    "        \n",
    "        param_dict = {}\n",
    "        for param_index, param_name in enumerate(hyperparams):\n",
    "            param_dict[param_name] = params[param_index]\n",
    "            \n",
    "        \n",
    "        estimator = clf(**param_dict, **fixed_hyperparams)\n",
    "\n",
    "        \n",
    "        estimator.fit(X_train_hp, y_train_hp)\n",
    "        \n",
    "        \n",
    "        preds = estimator.predict_proba(X_val_hp)\n",
    "        \n",
    "        \n",
    "        estimator_score = get_cindex(y_val_hp.values, preds[:,1])\n",
    "\n",
    "        print(f'[{i}/{total_param_combinations}] {param_dict}')\n",
    "        print(f'Val C-Index: {estimator_score}\\n')\n",
    "\n",
    "         \n",
    "        if estimator_score >= best_score:\n",
    "                best_score = estimator_score\n",
    "                best_estimator = estimator\n",
    "                best_hyperparams = param_dict\n",
    "\n",
    "    \n",
    "    best_hyperparams.update(fixed_hyperparams)\n",
    "    \n",
    "    return best_estimator, best_hyperparams"
   ]
  },
  {
   "cell_type": "code",
   "execution_count": 49,
   "id": "cd7ef29b",
   "metadata": {},
   "outputs": [],
   "source": [
    "def random_forest_grid_search(X_train, y_train, X_val, y_val):\n",
    "\n",
    "     \n",
    "    hyperparams = {\n",
    "        \n",
    "        'n_estimators': [100,150,200],\n",
    "\n",
    "        'max_depth': [3, 5, 8],\n",
    "        \n",
    "        'min_samples_leaf': [2, 4, 6],\n",
    "\n",
    "    }\n",
    "\n",
    "    \n",
    "    fixed_hyperparams = {\n",
    "        'random_state': 10,\n",
    "    }\n",
    "    \n",
    "    rf = RandomForestClassifier\n",
    "\n",
    "    best_rf, best_hyperparams = holdout_grid_search(rf, X_train, y_train,\n",
    "                                                    X_val, y_val, hyperparams,\n",
    "                                                    fixed_hyperparams)\n",
    "\n",
    "    print(f\"Best hyperparameters:\\n{best_hyperparams}\")\n",
    "\n",
    "    \n",
    "    y_train_best = best_rf.predict_proba(X_train)[:, 1]\n",
    "    print(f\"Train C-Index: {get_cindex(y_train.values, y_train_best)}\")\n",
    "\n",
    "    y_val_best = best_rf.predict_proba(X_val)[:, 1]\n",
    "    print(f\"Val C-Index: {get_cindex(y_val.values, y_val_best)}\")\n",
    "    \n",
    "    \n",
    "    best_hyperparams.update(fixed_hyperparams)\n",
    "    \n",
    "    return best_rf, best_hyperparams"
   ]
  },
  {
   "cell_type": "code",
   "execution_count": 50,
   "id": "7f712c20",
   "metadata": {},
   "outputs": [
    {
     "name": "stdout",
     "output_type": "stream",
     "text": [
      "[1/27] {'n_estimators': 100, 'max_depth': 3, 'min_samples_leaf': 2}\n",
      "Val C-Index: 0.8804755136322522\n",
      "\n",
      "[2/27] {'n_estimators': 100, 'max_depth': 3, 'min_samples_leaf': 4}\n",
      "Val C-Index: 0.8811215919369427\n",
      "\n",
      "[3/27] {'n_estimators': 100, 'max_depth': 3, 'min_samples_leaf': 6}\n",
      "Val C-Index: 0.8816384545806952\n",
      "\n",
      "[4/27] {'n_estimators': 100, 'max_depth': 5, 'min_samples_leaf': 2}\n",
      "Val C-Index: 0.8989533531464013\n",
      "\n",
      "[5/27] {'n_estimators': 100, 'max_depth': 5, 'min_samples_leaf': 4}\n",
      "Val C-Index: 0.8933970797260627\n",
      "\n",
      "[6/27] {'n_estimators': 100, 'max_depth': 5, 'min_samples_leaf': 6}\n",
      "Val C-Index: 0.8940431580307533\n",
      "\n",
      "[7/27] {'n_estimators': 100, 'max_depth': 8, 'min_samples_leaf': 2}\n",
      "Val C-Index: 0.8958521772838868\n",
      "\n",
      "[8/27] {'n_estimators': 100, 'max_depth': 8, 'min_samples_leaf': 4}\n",
      "Val C-Index: 0.8970151182323297\n",
      "\n",
      "[9/27] {'n_estimators': 100, 'max_depth': 8, 'min_samples_leaf': 6}\n",
      "Val C-Index: 0.8953353146401344\n",
      "\n",
      "[10/27] {'n_estimators': 150, 'max_depth': 3, 'min_samples_leaf': 2}\n",
      "Val C-Index: 0.8798294353275617\n",
      "\n",
      "[11/27] {'n_estimators': 150, 'max_depth': 3, 'min_samples_leaf': 4}\n",
      "Val C-Index: 0.880217082310376\n",
      "\n",
      "[12/27] {'n_estimators': 150, 'max_depth': 3, 'min_samples_leaf': 6}\n",
      "Val C-Index: 0.8797002196666236\n",
      "\n",
      "[13/27] {'n_estimators': 150, 'max_depth': 5, 'min_samples_leaf': 2}\n",
      "Val C-Index: 0.8986949218245252\n",
      "\n",
      "[14/27] {'n_estimators': 150, 'max_depth': 5, 'min_samples_leaf': 4}\n",
      "Val C-Index: 0.894818451996382\n",
      "\n",
      "[15/27] {'n_estimators': 150, 'max_depth': 5, 'min_samples_leaf': 6}\n",
      "Val C-Index: 0.8943015893526295\n",
      "\n",
      "[16/27] {'n_estimators': 150, 'max_depth': 8, 'min_samples_leaf': 2}\n",
      "Val C-Index: 0.8953353146401344\n",
      "\n",
      "[17/27] {'n_estimators': 150, 'max_depth': 8, 'min_samples_leaf': 4}\n",
      "Val C-Index: 0.8974027652151441\n",
      "\n",
      "[18/27] {'n_estimators': 150, 'max_depth': 8, 'min_samples_leaf': 6}\n",
      "Val C-Index: 0.8952060989791962\n",
      "\n",
      "[19/27] {'n_estimators': 200, 'max_depth': 3, 'min_samples_leaf': 2}\n",
      "Val C-Index: 0.8818968859025714\n",
      "\n",
      "[20/27] {'n_estimators': 200, 'max_depth': 3, 'min_samples_leaf': 4}\n",
      "Val C-Index: 0.8818968859025714\n",
      "\n",
      "[21/27] {'n_estimators': 200, 'max_depth': 3, 'min_samples_leaf': 6}\n",
      "Val C-Index: 0.8818968859025714\n",
      "\n",
      "[22/27] {'n_estimators': 200, 'max_depth': 5, 'min_samples_leaf': 2}\n",
      "Val C-Index: 0.8976611965370203\n",
      "\n",
      "[23/27] {'n_estimators': 200, 'max_depth': 5, 'min_samples_leaf': 4}\n",
      "Val C-Index: 0.8957229616229487\n",
      "\n",
      "[24/27] {'n_estimators': 200, 'max_depth': 5, 'min_samples_leaf': 6}\n",
      "Val C-Index: 0.8937847267088771\n",
      "\n",
      "[25/27] {'n_estimators': 200, 'max_depth': 8, 'min_samples_leaf': 2}\n",
      "Val C-Index: 0.8962398242667011\n",
      "\n",
      "[26/27] {'n_estimators': 200, 'max_depth': 8, 'min_samples_leaf': 4}\n",
      "Val C-Index: 0.8977904121979584\n",
      "\n",
      "[27/27] {'n_estimators': 200, 'max_depth': 8, 'min_samples_leaf': 6}\n",
      "Val C-Index: 0.8957229616229487\n",
      "\n",
      "Best hyperparameters:\n",
      "{'n_estimators': 100, 'max_depth': 5, 'min_samples_leaf': 2, 'random_state': 10}\n",
      "Train C-Index: 0.9666401427469136\n",
      "Val C-Index: 0.8989533531464013\n"
     ]
    }
   ],
   "source": [
    "best_rf, best_hyperparams = random_forest_grid_search(X_train, y_train, X_val, y_val)"
   ]
  },
  {
   "cell_type": "code",
   "execution_count": 51,
   "id": "6851a848",
   "metadata": {},
   "outputs": [
    {
     "name": "stdout",
     "output_type": "stream",
     "text": [
      "Test C-Index: 0.9335\n"
     ]
    }
   ],
   "source": [
    "y_test_best = best_rf.predict_proba(X_test)[:, 1]\n",
    "\n",
    "print(f\"Test C-Index: {get_cindex(y_test.values, y_test_best)}\")"
   ]
  },
  {
   "cell_type": "code",
   "execution_count": 52,
   "id": "89e50a8b",
   "metadata": {},
   "outputs": [],
   "source": [
    "y_test_preds = best_rf.predict(X_test)"
   ]
  },
  {
   "cell_type": "code",
   "execution_count": 53,
   "id": "1b042aa1",
   "metadata": {},
   "outputs": [],
   "source": [
    "cnf_matrix_test = metrics.confusion_matrix(y_test, y_test_preds)"
   ]
  },
  {
   "cell_type": "code",
   "execution_count": 54,
   "id": "26a1e677",
   "metadata": {},
   "outputs": [
    {
     "data": {
      "image/png": "[encoded data removed]",
      "text/plain": [
       "<Figure size 432x288 with 2 Axes>"
      ]
     },
     "metadata": {
      "needs_background": "light"
     },
     "output_type": "display_data"
    }
   ],
   "source": [
    "class_names=[0,1] \n",
    "fig, ax = plt.subplots()\n",
    "tick_marks = np.arange(len(class_names))\n",
    "plt.xticks(tick_marks, class_names)\n",
    "plt.yticks(tick_marks, class_names)\n",
    "sns.heatmap(pd.DataFrame(cnf_matrix_test), annot=True, cmap=\"YlGnBu\",  fmt='g')\n",
    "plt.title('Confusion matrix')\n",
    "plt.ylabel('Actual label')\n",
    "plt.xlabel('Predicted label')\n",
    "ax.xaxis.set_label_position(\"top\")"
   ]
  },
  {
   "cell_type": "code",
   "execution_count": 55,
   "id": "6f41d8e5",
   "metadata": {},
   "outputs": [
    {
     "name": "stdout",
     "output_type": "stream",
     "text": [
      "              precision    recall  f1-score   support\n",
      "\n",
      "           0       0.89      0.82      0.86        80\n",
      "           1       0.87      0.92      0.89       100\n",
      "\n",
      "    accuracy                           0.88       180\n",
      "   macro avg       0.88      0.87      0.88       180\n",
      "weighted avg       0.88      0.88      0.88       180\n",
      "\n"
     ]
    }
   ],
   "source": [
    "print(classification_report(y_test, y_test_preds))"
   ]
  },
  {
   "cell_type": "code",
   "execution_count": 56,
   "id": "517faa81",
   "metadata": {},
   "outputs": [],
   "source": [
    "class_labels = ['HeartDisease']"
   ]
  },
  {
   "cell_type": "code",
   "execution_count": 57,
   "id": "94df8cf0",
   "metadata": {},
   "outputs": [],
   "source": [
    "scores = best_rf.predict_proba(X_test)[:, 1]"
   ]
  },
  {
   "cell_type": "code",
   "execution_count": 58,
   "id": "9d78e502",
   "metadata": {},
   "outputs": [],
   "source": [
    "def bootstrap_auc(y, pred, classes, bootstraps = 100, fold_size = 1000):\n",
    "    statistics = np.zeros((len(classes), bootstraps))\n",
    "\n",
    "    df = pd.DataFrame(columns=['y', 'pred'])\n",
    "    df.loc[:, 'y'] = y\n",
    "    df.loc[:, 'pred'] = pred\n",
    "         \n",
    "    df_pos = df[df.y == 1]\n",
    "    df_neg = df[df.y == 0]\n",
    "    prevalence = len(df_pos) / len(df)\n",
    "    for i in range(bootstraps):\n",
    "             \n",
    "        pos_sample = df_pos.sample(n = int(fold_size * prevalence), replace=True)\n",
    "        neg_sample = df_neg.sample(n = int(fold_size * (1-prevalence)), replace=True)\n",
    "\n",
    "        y_sample = np.concatenate([pos_sample.y.values, neg_sample.y.values])\n",
    "        pred_sample = np.concatenate([pos_sample.pred.values, neg_sample.pred.values])\n",
    "        score = roc_auc_score(y_sample, pred_sample)\n",
    "        statistics[0][i] = score\n",
    "    return statistics\n",
    "\n",
    "statistics = bootstrap_auc(y_test.values, scores, class_labels)"
   ]
  },
  {
   "cell_type": "code",
   "execution_count": 59,
   "id": "6881fd76",
   "metadata": {},
   "outputs": [],
   "source": [
    "def print_confidence_intervals(class_labels, statistics):\n",
    "    df = pd.DataFrame(columns=[\"Mean AUC (CI 5%-95%)\"])\n",
    "    for i in range(len(class_labels)):\n",
    "        mean = statistics.mean(axis=1)[i]\n",
    "        max_ = np.quantile(statistics, .95, axis=1)[i]\n",
    "        min_ = np.quantile(statistics, .05, axis=1)[i]\n",
    "        df.loc[class_labels[i]] = [\"%.2f (%.2f-%.2f)\" % (mean, min_, max_)]\n",
    "    return df"
   ]
  },
  {
   "cell_type": "code",
   "execution_count": 60,
   "id": "4055ba7f",
   "metadata": {},
   "outputs": [
    {
     "data": {
      "text/html": [
       "<div>\n",
       "<style scoped>\n",
       "    .dataframe tbody tr th:only-of-type {\n",
       "        vertical-align: middle;\n",
       "    }\n",
       "\n",
       "    .dataframe tbody tr th {\n",
       "        vertical-align: top;\n",
       "    }\n",
       "\n",
       "    .dataframe thead th {\n",
       "        text-align: right;\n",
       "    }\n",
       "</style>\n",
       "<table border=\"1\" class=\"dataframe\">\n",
       "  <thead>\n",
       "    <tr style=\"text-align: right;\">\n",
       "      <th></th>\n",
       "      <th>Mean AUC (CI 5%-95%)</th>\n",
       "    </tr>\n",
       "  </thead>\n",
       "  <tbody>\n",
       "    <tr>\n",
       "      <th>HeartDisease</th>\n",
       "      <td>0.93 (0.92-0.94)</td>\n",
       "    </tr>\n",
       "  </tbody>\n",
       "</table>\n",
       "</div>"
      ],
      "text/plain": [
       "             Mean AUC (CI 5%-95%)\n",
       "HeartDisease     0.93 (0.92-0.94)"
      ]
     },
     "execution_count": 60,
     "metadata": {},
     "output_type": "execute_result"
    }
   ],
   "source": [
    "print_confidence_intervals(class_labels, statistics)"
   ]
  },
  {
   "cell_type": "code",
   "execution_count": 61,
   "id": "aeef54a3",
   "metadata": {},
   "outputs": [],
   "source": [
    "def plotting(true,pred):\n",
    "    fig,ax=plt.subplots(1,2,figsize=(10,5))\n",
    "    \n",
    "    precision,recall,threshold = precision_recall_curve(true,pred[:,1])\n",
    "    ax[0].plot(recall,precision,'g--')\n",
    "    ax[0].set_xlabel('Recall')\n",
    "    ax[0].set_ylabel('Precision')\n",
    "    ax[0].set_title(\"Heart Disease Avg : {}\".format(average_precision_score(true,pred[:,1])))\n",
    "    \n",
    "    fpr,tpr,threshold = roc_curve(true,pred[:,1])\n",
    "    ax[1].plot(fpr,tpr)\n",
    "    ax[1].set_title(\"Heart Disease AUC : {}\".format(auc(fpr,tpr)))\n",
    "    ax[1].plot([0,1],[0,1],'k--')\n",
    "    ax[1].set_xlabel('False Positive Rate')\n",
    "    ax[1].set_ylabel('True Positive Rate')"
   ]
  },
  {
   "cell_type": "code",
   "execution_count": 62,
   "id": "8ad0a687",
   "metadata": {},
   "outputs": [
    {
     "data": {
      "text/plain": [
       "<Figure size 432x288 with 0 Axes>"
      ]
     },
     "metadata": {},
     "output_type": "display_data"
    },
    {
     "data": {
      "image/png": "[encoded data removed]",
      "text/plain": [
       "<Figure size 720x360 with 2 Axes>"
      ]
     },
     "metadata": {
      "needs_background": "light"
     },
     "output_type": "display_data"
    }
   ],
   "source": [
    "plt.figure()\n",
    "plotting(y_test, best_rf.predict_proba(X_test))"
   ]
  },
  {
   "cell_type": "code",
   "execution_count": 63,
   "id": "683352df",
   "metadata": {},
   "outputs": [],
   "source": [
    "X_test_risk = X_test.copy(deep=True)\n",
    "X_test_risk.loc[:, 'risk'] = best_rf.predict_proba(X_test_risk)[:, 1]\n",
    "X_test_risk = X_test_risk.sort_values(by='risk', ascending=False)"
   ]
  },
  {
   "cell_type": "code",
   "execution_count": 64,
   "id": "729287bb",
   "metadata": {},
   "outputs": [
    {
     "data": {
      "image/png": "[encoded data removed]",
      "text/plain": [
       "<Figure size 1440x216 with 1 Axes>"
      ]
     },
     "metadata": {
      "needs_background": "light"
     },
     "output_type": "display_data"
    }
   ],
   "source": [
    "explainer = shap.TreeExplainer(best_rf)\n",
    "i = 0\n",
    "shap_value = explainer.shap_values(X_test.loc[X_test_risk.index[i], :])[1]\n",
    "shap.force_plot(explainer.expected_value[1], shap_value, feature_names=X_test.columns, matplotlib=True)"
   ]
  },
  {
   "cell_type": "code",
   "execution_count": 65,
   "id": "79e1511a",
   "metadata": {},
   "outputs": [],
   "source": [
    "shap_values = shap.TreeExplainer(best_rf).shap_values(X_test)[1]"
   ]
  },
  {
   "cell_type": "code",
   "execution_count": 66,
   "id": "051c91d5",
   "metadata": {},
   "outputs": [
    {
     "data": {
      "image/png": "[encoded data removed]",
      "text/plain": [
       "<Figure size 576x540 with 2 Axes>"
      ]
     },
     "metadata": {
      "needs_background": "light"
     },
     "output_type": "display_data"
    }
   ],
   "source": [
    "shap.summary_plot(shap_values, X_test)"
   ]
  },
  {
   "cell_type": "code",
   "execution_count": 67,
   "id": "8f43fb38",
   "metadata": {},
   "outputs": [
    {
     "data": {
      "image/png": "[encoded data removed]",
      "text/plain": [
       "<Figure size 540x360 with 2 Axes>"
      ]
     },
     "metadata": {
      "needs_background": "light"
     },
     "output_type": "display_data"
    }
   ],
   "source": [
    "shap.dependence_plot('Age', shap_values, X_test_1, interaction_index='Sex')"
   ]
  },
  {
   "cell_type": "code",
   "execution_count": 68,
   "id": "6f242fa8",
   "metadata": {},
   "outputs": [
    {
     "data": {
      "image/png": "[encoded data removed]",
      "text/plain": [
       "<Figure size 540x360 with 2 Axes>"
      ]
     },
     "metadata": {
      "needs_background": "light"
     },
     "output_type": "display_data"
    }
   ],
   "source": [
    "shap.dependence_plot('Cholesterol', shap_values, X_test_1, interaction_index='Sex')"
   ]
  },
  {
   "cell_type": "code",
   "execution_count": 69,
   "id": "713c04ac",
   "metadata": {},
   "outputs": [],
   "source": [
    " # UNQ_C3 (UNIQUE CELL IDENTIFIER, DO NOT EDIT)\n",
    "def permute_feature(df, feature):\n",
    "    \n",
    "    permuted_df = df.copy(deep=True)  \n",
    "\n",
    "    permuted_features = permuted_df\n",
    "   \n",
    "    permuted_df[feature] = np.random.permutation(permuted_df[feature])\n",
    "    \n",
    "\n",
    "    return permuted_df"
   ]
  },
  {
   "cell_type": "code",
   "execution_count": 70,
   "id": "8928b703",
   "metadata": {},
   "outputs": [],
   "source": [
    "# UNQ_C4 (UNIQUE CELL IDENTIFIER, DO NOT EDIT)\n",
    "def permutation_importance(X, y, model, metric, num_samples = 100):\n",
    "    \n",
    "    importances = pd.DataFrame(index = ['importance'], columns = X.columns)\n",
    "    \n",
    "    baseline_performance = metric(y.values, model.predict_proba(X)[:, 1])\n",
    "\n",
    "    for feature in importances.columns: \n",
    "        \n",
    "        feature_performance_arr = np.zeros(num_samples)\n",
    "        \n",
    "        for i in range(num_samples): \n",
    "            \n",
    "            perm_X = permute_feature(X, feature)\n",
    "            \n",
    "            feature_performance_arr[i] = metric(y.values, model.predict_proba(perm_X)[:, 1])\n",
    "    \n",
    "        importances[feature]['importance'] = np.abs(baseline_performance-np.mean(feature_performance_arr))\n",
    "\n",
    "    return importances"
   ]
  },
  {
   "cell_type": "code",
   "execution_count": 71,
   "id": "5bb95945",
   "metadata": {},
   "outputs": [
    {
     "data": {
      "text/html": [
       "<div>\n",
       "<style scoped>\n",
       "    .dataframe tbody tr th:only-of-type {\n",
       "        vertical-align: middle;\n",
       "    }\n",
       "\n",
       "    .dataframe tbody tr th {\n",
       "        vertical-align: top;\n",
       "    }\n",
       "\n",
       "    .dataframe thead th {\n",
       "        text-align: right;\n",
       "    }\n",
       "</style>\n",
       "<table border=\"1\" class=\"dataframe\">\n",
       "  <thead>\n",
       "    <tr style=\"text-align: right;\">\n",
       "      <th></th>\n",
       "      <th>Age</th>\n",
       "      <th>Sex</th>\n",
       "      <th>RestingBP</th>\n",
       "      <th>Cholesterol</th>\n",
       "      <th>FastingBS</th>\n",
       "      <th>MaxHR</th>\n",
       "      <th>ExerciseAngina</th>\n",
       "      <th>Oldpeak</th>\n",
       "      <th>ChestPainType_1</th>\n",
       "      <th>ChestPainType_2</th>\n",
       "      <th>ChestPainType_3</th>\n",
       "      <th>RestingECG_1</th>\n",
       "      <th>RestingECG_2</th>\n",
       "      <th>ST_Slope_1</th>\n",
       "      <th>ST_Slope_2</th>\n",
       "    </tr>\n",
       "  </thead>\n",
       "  <tbody>\n",
       "    <tr>\n",
       "      <th>importance</th>\n",
       "      <td>0.002014</td>\n",
       "      <td>0.02068</td>\n",
       "      <td>0.002856</td>\n",
       "      <td>0.003669</td>\n",
       "      <td>0.006272</td>\n",
       "      <td>0.008296</td>\n",
       "      <td>0.014301</td>\n",
       "      <td>0.0189</td>\n",
       "      <td>0.005616</td>\n",
       "      <td>0.008039</td>\n",
       "      <td>0.0006</td>\n",
       "      <td>0.000086</td>\n",
       "      <td>0.000137</td>\n",
       "      <td>0.008037</td>\n",
       "      <td>0.025412</td>\n",
       "    </tr>\n",
       "  </tbody>\n",
       "</table>\n",
       "</div>"
      ],
      "text/plain": [
       "                 Age      Sex RestingBP Cholesterol FastingBS     MaxHR  \\\n",
       "importance  0.002014  0.02068  0.002856    0.003669  0.006272  0.008296   \n",
       "\n",
       "           ExerciseAngina Oldpeak ChestPainType_1 ChestPainType_2  \\\n",
       "importance       0.014301  0.0189        0.005616        0.008039   \n",
       "\n",
       "           ChestPainType_3 RestingECG_1 RestingECG_2 ST_Slope_1 ST_Slope_2  \n",
       "importance          0.0006     0.000086     0.000137   0.008037   0.025412  "
      ]
     },
     "execution_count": 71,
     "metadata": {},
     "output_type": "execute_result"
    }
   ],
   "source": [
    "importances = permutation_importance(X_test, y_test, best_rf, get_cindex, num_samples=100)\n",
    "importances"
   ]
  },
  {
   "cell_type": "code",
   "execution_count": 72,
   "id": "c3b23f85",
   "metadata": {},
   "outputs": [
    {
     "data": {
      "image/png": "[encoded data removed]",
      "text/plain": [
       "<Figure size 432x288 with 1 Axes>"
      ]
     },
     "metadata": {
      "needs_background": "light"
     },
     "output_type": "display_data"
    }
   ],
   "source": [
    "importances.T.plot.bar()\n",
    "plt.ylabel(\"Importance\")\n",
    "l = plt.legend()\n",
    "l.remove()\n",
    "plt.show()"
   ]
  },
  {
   "cell_type": "code",
   "execution_count": null,
   "id": "251186c9",
   "metadata": {},
   "outputs": [],
   "source": []
  },
  {
   "cell_type": "code",
   "execution_count": null,
   "id": "742b63af",
   "metadata": {},
   "outputs": [],
   "source": []
  }
 ],
 "metadata": {
  "kernelspec": {
   "display_name": "Python 3 (ipykernel)",
   "language": "python",
   "name": "python3"
  },
  "language_info": {
   "codemirror_mode": {
    "name": "ipython",
    "version": 3
   },
   "file_extension": ".py",
   "mimetype": "text/x-python",
   "name": "python",
   "nbconvert_exporter": "python",
   "pygments_lexer": "ipython3",
   "version": "3.9.7"
  }
 },
 "nbformat": 4,
 "nbformat_minor": 5
}
